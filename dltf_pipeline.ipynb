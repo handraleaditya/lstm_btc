{
  "nbformat": 4,
  "nbformat_minor": 0,
  "metadata": {
    "colab": {
      "name": "dltf pipeline",
      "provenance": [],
      "collapsed_sections": []
    },
    "kernelspec": {
      "name": "python3",
      "display_name": "Python 3"
    },
    "language_info": {
      "name": "python"
    },
    "accelerator": "GPU"
  },
  "cells": [
    {
      "cell_type": "markdown",
      "source": [
        "## Downloading kaggle data\n",
        "### Save kaggle.json from kaggle API settings into drive path"
      ],
      "metadata": {
        "id": "2ZBXNxjZTHy_"
      }
    },
    {
      "cell_type": "code",
      "execution_count": null,
      "metadata": {
        "colab": {
          "base_uri": "https://localhost:8080/"
        },
        "id": "-YxTbiCNS8i2",
        "outputId": "eee4d93d-72c2-4ff2-ac92-511a8e9ae2d8"
      },
      "outputs": [
        {
          "output_type": "stream",
          "name": "stdout",
          "text": [
            "Mounted at /content/drive\n",
            "Warning: Looks like you're using an outdated API Version, please consider updating (server 1.5.12 / client 1.5.4)\n",
            "Downloading competition.cpython-37m-x86_64-linux-gnu.so to /content/dataset\n",
            "  0% 0.00/660k [00:00<?, ?B/s]\n",
            "100% 660k/660k [00:00<00:00, 90.7MB/s]\n",
            "Downloading __init__.py to /content/dataset\n",
            "  0% 0.00/59.0 [00:00<?, ?B/s]\n",
            "100% 59.0/59.0 [00:00<00:00, 58.9kB/s]\n",
            "Downloading example_sample_submission.csv to /content/dataset\n",
            "  0% 0.00/406 [00:00<?, ?B/s]\n",
            "100% 406/406 [00:00<00:00, 375kB/s]\n",
            "Downloading supplemental_train.csv.zip to /content/dataset\n",
            " 87% 89.0M/103M [00:01<00:00, 69.0MB/s]\n",
            "100% 103M/103M [00:01<00:00, 81.9MB/s] \n",
            "Downloading train.csv.zip to /content/dataset\n",
            " 99% 1.01G/1.02G [00:09<00:00, 143MB/s]\n",
            "100% 1.02G/1.02G [00:09<00:00, 110MB/s]\n",
            "Downloading asset_details.csv to /content/dataset\n",
            "  0% 0.00/444 [00:00<?, ?B/s]\n",
            "100% 444/444 [00:00<00:00, 378kB/s]\n",
            "Downloading example_test.csv to /content/dataset\n",
            "  0% 0.00/5.78k [00:00<?, ?B/s]\n",
            "100% 5.78k/5.78k [00:00<00:00, 5.79MB/s]\n",
            "Archive:  /content/dataset/train.csv.zip\n",
            "  inflating: train.csv               \n"
          ]
        }
      ],
      "source": [
        "# Mount google drive\n",
        "from google.colab import drive\n",
        "drive.mount('/content/drive')\n",
        "\n",
        "# Import API key from drive to colab env\n",
        "!mkdir ~/.kaggle\n",
        "\n",
        "# Save kaggle.json from kaggle API settings into drive path\n",
        "\n",
        "!cp /content/drive/MyDrive/Uni/sem1/dltf/kaggle.json ~/.kaggle\n",
        "\n",
        "# Install kaggle API\n",
        "!pip install -q kaggle\n",
        "\n",
        "# Add necessary permission\n",
        "!chmod 600 ~/.kaggle/kaggle.json\n",
        "\n",
        "# Create dataset folder and download data\n",
        "!mkdir dataset && rm -r sample_data\n",
        "!cd dataset && kaggle competitions download -c g-research-crypto-forecasting\n",
        "\n",
        "# Extract the train.csv\n",
        "!unzip /content/dataset/train.csv.zip"
      ]
    },
    {
      "cell_type": "markdown",
      "source": [
        "## source/credits : **https**://www.kaggle.com/metathesis/torch-lstm-baseline-training-updated/notebook"
      ],
      "metadata": {
        "id": "4U2HbowrCKcJ"
      }
    },
    {
      "cell_type": "markdown",
      "source": [
        "## Load and preprocess the data"
      ],
      "metadata": {
        "id": "M1zBP1tHYp3c"
      }
    },
    {
      "cell_type": "code",
      "source": [
        ""
      ],
      "metadata": {
        "id": "Z0uvLKgKCQZm"
      },
      "execution_count": null,
      "outputs": []
    },
    {
      "cell_type": "markdown",
      "source": [
        "Training data end date : 31/5/21  \n",
        "Testing beginning date : 1/6/21\n"
      ],
      "metadata": {
        "id": "0Ha4u7pndLhu"
      }
    },
    {
      "cell_type": "code",
      "source": [
        ""
      ],
      "metadata": {
        "id": "aB61PaPPDsnd"
      },
      "execution_count": null,
      "outputs": []
    },
    {
      "cell_type": "code",
      "source": [
        "import pandas as pd\n",
        "import numpy as np\n",
        "from sklearn.model_selection import train_test_split\n",
        "\n",
        "import torch\n",
        "import torch.nn as nn\n",
        "import torch.optim as optim\n",
        "from torch.utils import data\n",
        "\n",
        "from torch.utils.data import Dataset, DataLoader\n",
        "from torch.nn import functional as F\n",
        "from torchvision import datasets, models, transforms\n",
        "\n",
        "from tqdm import tqdm\n",
        "\n",
        "\n",
        "import matplotlib.pyplot as plt\n",
        "import matplotlib.ticker as ticker\n"
      ],
      "metadata": {
        "id": "GKawepd5elty"
      },
      "execution_count": null,
      "outputs": []
    },
    {
      "cell_type": "code",
      "source": [
        "%%time\n",
        "df = pd.read_csv('train.csv')"
      ],
      "metadata": {
        "colab": {
          "base_uri": "https://localhost:8080/"
        },
        "id": "T0M016I0UVD4",
        "outputId": "0f8ddf5c-cc2c-4473-a155-2d969b6f4ea4"
      },
      "execution_count": null,
      "outputs": [
        {
          "output_type": "stream",
          "name": "stdout",
          "text": [
            "CPU times: user 23.8 s, sys: 6.05 s, total: 29.8 s\n",
            "Wall time: 29.8 s\n"
          ]
        }
      ]
    },
    {
      "cell_type": "code",
      "source": [
        ""
      ],
      "metadata": {
        "id": "33bYV_jmefYO"
      },
      "execution_count": null,
      "outputs": []
    },
    {
      "cell_type": "markdown",
      "source": [
        "## dont run the following block"
      ],
      "metadata": {
        "id": "07fIf-7cDwNx"
      }
    },
    {
      "cell_type": "code",
      "source": [
        "# Convert UNIX timetamps \n",
        "df['Time'] = pd.to_datetime(df['timestamp'], unit='s')\n",
        "# Creating bitcoin dataset\n",
        "btc = df[df['Asset_ID']==1]\n",
        "\n",
        "# Drop old index\n",
        "btc = btc.reset_index(drop=True)\n",
        "\n",
        "# Set timestamp as index\n",
        "btc.set_index('timestamp', inplace = True)\n",
        "\n",
        "# Drop useless fetures\n",
        "btc = btc.drop(['Asset_ID','Open', 'High', 'Low', 'Time'], 1)\n",
        "\n",
        "# Drop NANs from 'Target' variable\n",
        "btc['Target'].fillna(method='pad', inplace =True)\n",
        "\n",
        "# Reindex with stepsize = 60 ????\n",
        "btc  = btc.reindex(range(btc.index[0], btc.index[-1],60), method='pad')"
      ],
      "metadata": {
        "id": "hWGvLQiFfHTw"
      },
      "execution_count": null,
      "outputs": []
    },
    {
      "cell_type": "code",
      "source": [
        "pd.set_option('display.float_format', lambda x: '%.3f' % x)"
      ],
      "metadata": {
        "id": "lk92aO3Y8L9a"
      },
      "execution_count": null,
      "outputs": []
    },
    {
      "cell_type": "code",
      "source": [
        "train = btc[btc.index< 1622505660].copy().reset_index(drop=True)\n",
        "test = btc[btc.index>1622505660].copy().reset_index(drop=True)\n"
      ],
      "metadata": {
        "id": "DNEUzBju1vuO"
      },
      "execution_count": null,
      "outputs": []
    },
    {
      "cell_type": "markdown",
      "source": [
        "## Run from here"
      ],
      "metadata": {
        "id": "u0Wn2L7ND0r_"
      }
    },
    {
      "cell_type": "code",
      "source": [
        "#Change the nrows to however many samples youd like, better results observed with low nrows value\n",
        "df_train = pd.read_csv('train.csv', nrows=100000)\n",
        "df_train.dropna(axis = 0, inplace = True)\n",
        "\n",
        "df_train.shape"
      ],
      "metadata": {
        "colab": {
          "base_uri": "https://localhost:8080/",
          "height": 244
        },
        "id": "oSvS7uUsdGd8",
        "outputId": "954c9156-c27a-4da7-b85c-08e1a753c1f2"
      },
      "execution_count": null,
      "outputs": [
        {
          "output_type": "error",
          "ename": "NameError",
          "evalue": "ignored",
          "traceback": [
            "\u001b[0;31m---------------------------------------------------------------------------\u001b[0m",
            "\u001b[0;31mNameError\u001b[0m                                 Traceback (most recent call last)",
            "\u001b[0;32m<ipython-input-1-daea568c4acb>\u001b[0m in \u001b[0;36m<module>\u001b[0;34m()\u001b[0m\n\u001b[1;32m      1\u001b[0m \u001b[0;31m#Change the nrows to however many samples youd like\u001b[0m\u001b[0;34m\u001b[0m\u001b[0;34m\u001b[0m\u001b[0;34m\u001b[0m\u001b[0m\n\u001b[0;32m----> 2\u001b[0;31m \u001b[0mdf_train\u001b[0m \u001b[0;34m=\u001b[0m \u001b[0mpd\u001b[0m\u001b[0;34m.\u001b[0m\u001b[0mread_csv\u001b[0m\u001b[0;34m(\u001b[0m\u001b[0;34m'train.csv'\u001b[0m\u001b[0;34m,\u001b[0m \u001b[0mnrows\u001b[0m\u001b[0;34m=\u001b[0m\u001b[0;36m100000\u001b[0m\u001b[0;34m)\u001b[0m\u001b[0;34m\u001b[0m\u001b[0;34m\u001b[0m\u001b[0m\n\u001b[0m\u001b[1;32m      3\u001b[0m \u001b[0mdf_train\u001b[0m\u001b[0;34m.\u001b[0m\u001b[0mdropna\u001b[0m\u001b[0;34m(\u001b[0m\u001b[0maxis\u001b[0m \u001b[0;34m=\u001b[0m \u001b[0;36m0\u001b[0m\u001b[0;34m,\u001b[0m \u001b[0minplace\u001b[0m \u001b[0;34m=\u001b[0m \u001b[0;32mTrue\u001b[0m\u001b[0;34m)\u001b[0m\u001b[0;34m\u001b[0m\u001b[0;34m\u001b[0m\u001b[0m\n\u001b[1;32m      4\u001b[0m \u001b[0;34m\u001b[0m\u001b[0m\n\u001b[1;32m      5\u001b[0m \u001b[0mdf_train\u001b[0m\u001b[0;34m.\u001b[0m\u001b[0mshape\u001b[0m\u001b[0;34m\u001b[0m\u001b[0;34m\u001b[0m\u001b[0m\n",
            "\u001b[0;31mNameError\u001b[0m: name 'pd' is not defined"
          ]
        }
      ]
    },
    {
      "cell_type": "code",
      "source": [
        "training_data, validation_data = train_test_split(df_train, test_size = 0.2, shuffle = False)"
      ],
      "metadata": {
        "id": "rquXhpFy-5Xh"
      },
      "execution_count": null,
      "outputs": []
    },
    {
      "cell_type": "code",
      "source": [
        ""
      ],
      "metadata": {
        "id": "pOdDVM4SD3IE"
      },
      "execution_count": null,
      "outputs": []
    },
    {
      "cell_type": "code",
      "source": [
        "print(f\"Training data size: {training_data.shape}\",\n",
        "      f\"Validation data size: {validation_data.shape}\")"
      ],
      "metadata": {
        "colab": {
          "base_uri": "https://localhost:8080/"
        },
        "id": "HSbhMP5weZ_2",
        "outputId": "1db8f1aa-bfe2-494b-b33f-b53463b8dc48"
      },
      "execution_count": null,
      "outputs": [
        {
          "output_type": "stream",
          "name": "stdout",
          "text": [
            "Training data size: (38817, 10) Validation data size: (9705, 10)\n"
          ]
        }
      ]
    },
    {
      "cell_type": "markdown",
      "source": [
        "## Hyperparameter tuning\n"
      ],
      "metadata": {
        "id": "PHMJr8gFdzm-"
      }
    },
    {
      "cell_type": "code",
      "source": [
        "# Num of epochs\n",
        "epochs = 10\n",
        "\n",
        "\n",
        "\n",
        "\n",
        "# Features to consider\n",
        "features = ['Close','High', 'Low', 'Open', 'VWAP', 'Volume']\n",
        "num_features = len(features)\n",
        "target = 'Target'\n",
        "\n",
        "batch_size = 6\n",
        "\n",
        "window_size = 60\n",
        "\n",
        "dropout = 0.2\n",
        "\n",
        "hidden_size = 100\n",
        "output_size = 1\n",
        "directions = 1\n",
        "num_layers = 5\n",
        "\n",
        "state_dim = num_layers*directions, batch_size, hidden_size\n",
        "\n",
        "learning_rate = 0.00001\n",
        "\n"
      ],
      "metadata": {
        "id": "6IzsptaAdX7P"
      },
      "execution_count": null,
      "outputs": []
    },
    {
      "cell_type": "markdown",
      "source": [
        "## Dataset OOP"
      ],
      "metadata": {
        "id": "N1726GTyettE"
      }
    },
    {
      "cell_type": "code",
      "source": [
        "class CreateDataset(Dataset):\n",
        "\n",
        "    def __init__(self, csv, window_size, features, target):\n",
        "      self.csv = csv\n",
        "      self.window_size = window_size\n",
        "      self.features = features\n",
        "      self.target = target\n",
        "      self.length = len(csv)\n",
        "\n",
        "      self.stats = self.create_windows()\n",
        "\n",
        "    def create_windows(self):\n",
        "      new_dataset = []\n",
        "      for idx in range(self.length - self.window_size):\n",
        "        x = self.csv[idx:idx + self.window_size][self.features].values\n",
        "        y = self.csv[idx + self.window_size:idx + self.window_size +1][self.target].values\n",
        "        new_dataset.append((x,y))\n",
        "      return new_dataset\n",
        "\n",
        "    def __len__(self):\n",
        "      return len(self.stats)\n",
        "    \n",
        "    def __getitem__(self, idx):\n",
        "      return self.stats[idx]\n"
      ],
      "metadata": {
        "id": "aQi5A5Qweqrt"
      },
      "execution_count": null,
      "outputs": []
    },
    {
      "cell_type": "code",
      "source": [
        "params = {'batch_size': batch_size,\n",
        "          'shuffle': False,\n",
        "          'drop_last': True, # Disregard last incomplete batch\n",
        "          'num_workers': 2}\n",
        "          \n",
        "\n",
        "# Instantiate dataset and data loader\n",
        "training_ds = CreateDataset(training_data, window_size, features,  target)\n",
        "training_dl = DataLoader(training_ds, **params)\n",
        "\n",
        "validation_ds = CreateDataset(validation_data, window_size, features, target)\n",
        "validation_dl = DataLoader(validation_ds, **params)\n"
      ],
      "metadata": {
        "id": "RrhqmjAijYkx"
      },
      "execution_count": null,
      "outputs": []
    },
    {
      "cell_type": "markdown",
      "source": [
        "## Model definition"
      ],
      "metadata": {
        "id": "DP74QAdOsIPJ"
      }
    },
    {
      "cell_type": "code",
      "source": [
        "#Setting torch to use cuda..make sure to go to Runtime>Change runtime type>hardware accelerator>gpu\n",
        "use_cuda = torch.cuda.is_available()\n",
        "device = torch.device(\"cuda:0\" if use_cuda else \"cpu\")\n",
        "\n",
        "# Setting the seed\n",
        "torch.manual_seed(0)\n",
        "torch.cuda.manual_seed(0)\n",
        "np.random.seed(0)\n",
        "\n",
        "device\n"
      ],
      "metadata": {
        "colab": {
          "base_uri": "https://localhost:8080/"
        },
        "id": "kMao1187sH3I",
        "outputId": "25bb0421-c5f1-48b5-c5e4-6803f3c0c545"
      },
      "execution_count": null,
      "outputs": [
        {
          "output_type": "execute_result",
          "data": {
            "text/plain": [
              "device(type='cuda', index=0)"
            ]
          },
          "metadata": {},
          "execution_count": 101
        }
      ]
    },
    {
      "cell_type": "code",
      "source": [
        "class LSTM(nn.Module):\n",
        "\n",
        "  def __init__(self, input_size, hidden_size, num_layers, output_size, dropout, directions= 1):\n",
        "    super(LSTM, self).__init__()\n",
        "    self.num_layers = num_layers\n",
        "    self.hidden_size = hidden_size\n",
        "    self.directions = directions\n",
        "\n",
        "    self.lstm = nn.LSTM(input_size, hidden_size, num_layers, batch_first=True, dropout = dropout)\n",
        "    self.dropout = nn.Dropout(dropout)\n",
        "    self.linear = nn.Linear(hidden_size, output_size)\n",
        "\n",
        "  def init_hidden_layer(self, batch_size):\n",
        "    state_dim = (self.num_layers * self.directions, batch_size, self.hidden_size)\n",
        "    return(torch.zeros(state_dim).to(device), torch.zeros(state_dim).to(device)) \n",
        "\n",
        "  def forward(self, x, states):\n",
        "    x, (h,c) = self.lstm(x, states)\n",
        "    out = self.linear(x)\n",
        "    return out, (h,c)"
      ],
      "metadata": {
        "id": "EbFFjAFqqSBX"
      },
      "execution_count": null,
      "outputs": []
    },
    {
      "cell_type": "markdown",
      "source": [
        "## Instantiating model"
      ],
      "metadata": {
        "id": "ZFzNErHX2wDC"
      }
    },
    {
      "cell_type": "code",
      "source": [
        "model = LSTM(num_features, hidden_size, num_layers, output_size, dropout).to(device)\n",
        "print(num_features, hidden_size, num_layers, output_size, dropout)\n",
        "criterion = nn.MSELoss()\n",
        "optimizer = optim.AdamW(model.linear.parameters(), lr = learning_rate, weight_decay= 0.01)"
      ],
      "metadata": {
        "colab": {
          "base_uri": "https://localhost:8080/"
        },
        "id": "3q-cdaXq0FgL",
        "outputId": "8cdf39fd-a1fa-4630-fd06-53b98ca6be06"
      },
      "execution_count": null,
      "outputs": [
        {
          "output_type": "stream",
          "name": "stdout",
          "text": [
            "6 100 5 1 0.2\n"
          ]
        }
      ]
    },
    {
      "cell_type": "code",
      "source": [
        "def save_checkpoint(epoch, min_val_loss, model_state, opt_state):\n",
        "  print(f\"New minimum reached at epoch #{epoch + 1}, saving model state...\")\n",
        "  checkpoint = {\n",
        "    'epoch': epoch + 1,\n",
        "    'min_val_loss': min_val_loss,\n",
        "    'model_state': model_state,\n",
        "    'opt_state': opt_state,\n",
        "  }\n",
        "  torch.save(checkpoint, \"./model_state.pt\")\n",
        "\n",
        "\n",
        "def load_checkpoint(path, model, optimizer):\n",
        "    # load check point\n",
        "    checkpoint = torch.load(path)\n",
        "    min_val_loss = checkpoint[\"min_val_loss\"]\n",
        "    model.load_state_dict(checkpoint[\"model_state\"])\n",
        "    optimizer.load_state_dict(checkpoint[\"opt_state\"])\n",
        "    return model, optimizer, checkpoint[\"epoch\"], min_val_loss\n",
        " "
      ],
      "metadata": {
        "id": "6HOhsW702_ZQ"
      },
      "execution_count": null,
      "outputs": []
    },
    {
      "cell_type": "code",
      "source": [
        "#refer kaggle notebook for better documentation\n",
        "def training(model, epochs, validate_every=2):\n",
        "\n",
        "  training_losses = []\n",
        "\n",
        "  validation_losses = []\n",
        "  min_validation_loss = np.Inf\n",
        "\n",
        "  model.train()\n",
        "\n",
        "  for epoch in tqdm(range(epochs)):\n",
        "\n",
        "    states = model.init_hidden_layer(batch_size)\n",
        "    running_training_loss = 0.0\n",
        "\n",
        "    for idx, (x_batch, y_batch) in enumerate(training_dl):\n",
        "\n",
        "      x_batch = x_batch.float().to(device)\n",
        "      y_batch = y_batch.float().to(device)\n",
        "\n",
        "      states = [state.detach() for state in states]\n",
        "\n",
        "      optimizer.zero_grad()\n",
        "\n",
        "      output, states = model(x_batch, states)\n",
        "\n",
        "      loss = criterion(output[:,-1,:], y_batch)\n",
        "      loss.backward()\n",
        "      running_training_loss += loss.item()\n",
        "\n",
        "      torch.nn.utils.clip_grad_norm_(model.parameters(),0.5)\n",
        "      optimizer.step()\n",
        "    training_losses.append(running_training_loss/len(training_dl))\n",
        "\n",
        "    if epoch % validate_every == 0:\n",
        "      model.eval()\n",
        "      validation_states = model.init_hidden_layer(batch_size)\n",
        "      running_validation_loss = 0.0\n",
        "\n",
        "      for idx, (x_batch, y_batch) in enumerate(validation_dl):\n",
        "        x_batch = x_batch.float().to(device)\n",
        "        y_batch = y_batch.float().to(device)\n",
        "\n",
        "        validation_states = [state.detach() for state in validation_states]\n",
        "        output, validation_states = model(x_batch, validation_states)\n",
        "        validation_loss = criterion(output[:,-1,:], y_batch)\n",
        "        running_validation_loss += validation_loss.item()\n",
        "    validation_losses.append(running_validation_loss/len(validation_dl))\n",
        "    model.train()\n",
        "\n",
        "    is_best = running_validation_loss/len(validation_dl) < min_validation_loss\n",
        "\n",
        "    if is_best:\n",
        "      min_validation_loss = running_validation_loss / len(validation_dl)\n",
        "      save_checkpoint(epoch + 1, min_validation_loss, model.state_dict(), optimizer.state_dict())\n",
        "\n",
        "  epoch_count = range(1, len(training_losses) + 1)\n",
        "  plt.plot(epoch_count, training_losses, 'r--')\n",
        "  plt.legend(['Training Loss'])\n",
        "  plt.xlabel('Epoch')\n",
        "  plt.ylabel('Loss')\n",
        "  plt.show()\n",
        "\n",
        "  val_epoch_count = range(1, len(validation_losses) + 1)\n",
        "  plt.plot(val_epoch_count, validation_losses, 'b--')\n",
        "  plt.legend(['Validation loss'])\n",
        "  plt.xlabel('Epoch')\n",
        "  plt.ylabel('Loss')\n",
        "  plt.show()\n",
        "\n",
        "  print(validation_losses)\n",
        "  print(training_losses)\n"
      ],
      "metadata": {
        "id": "xfbytokN3wxH"
      },
      "execution_count": null,
      "outputs": []
    },
    {
      "cell_type": "code",
      "source": [
        ""
      ],
      "metadata": {
        "id": "35rP8rc3h7Wz"
      },
      "execution_count": null,
      "outputs": []
    },
    {
      "cell_type": "code",
      "source": [
        "training(model, 10)\n"
      ],
      "metadata": {
        "colab": {
          "base_uri": "https://localhost:8080/",
          "height": 671
        },
        "id": "wtWLQq3H4en2",
        "outputId": "61479d53-e509-4781-c14f-609db5826263"
      },
      "execution_count": null,
      "outputs": [
        {
          "output_type": "stream",
          "name": "stderr",
          "text": [
            " 10%|█         | 1/10 [02:31<22:41, 151.33s/it]"
          ]
        },
        {
          "output_type": "stream",
          "name": "stdout",
          "text": [
            "New minimum reached at epoch #2, saving model state...\n"
          ]
        },
        {
          "output_type": "stream",
          "name": "stderr",
          "text": [
            " 30%|███       | 3/10 [07:19<17:07, 146.72s/it]"
          ]
        },
        {
          "output_type": "stream",
          "name": "stdout",
          "text": [
            "New minimum reached at epoch #4, saving model state...\n"
          ]
        },
        {
          "output_type": "stream",
          "name": "stderr",
          "text": [
            " 50%|█████     | 5/10 [12:06<12:08, 145.68s/it]"
          ]
        },
        {
          "output_type": "stream",
          "name": "stdout",
          "text": [
            "New minimum reached at epoch #6, saving model state...\n"
          ]
        },
        {
          "output_type": "stream",
          "name": "stderr",
          "text": [
            "100%|██████████| 10/10 [23:42<00:00, 142.28s/it]\n"
          ]
        },
        {
          "output_type": "display_data",
          "data": {
            "image/png": "[encoded data removed]",
            "text/plain": [
              "<Figure size 432x288 with 1 Axes>"
            ]
          },
          "metadata": {
            "needs_background": "light"
          }
        },
        {
          "output_type": "display_data",
          "data": {
            "image/png": "[encoded data removed]",
            "text/plain": [
              "<Figure size 432x288 with 1 Axes>"
            ]
          },
          "metadata": {
            "needs_background": "light"
          }
        },
        {
          "output_type": "stream",
          "name": "stdout",
          "text": [
            "[0.00011617668361483779, 0.00011617668361483779, 0.00011611955885416217, 0.00011611955885416217, 0.00011604591037485588, 0.00011604591037485588, 0.0001160590873702412, 0.0001160590873702412, 0.00011616743740490028, 0.00011616743740490028]\n",
            "[0.00020461742506800272, 8.370352604966308e-05, 8.346455131947095e-05, 8.320231658253675e-05, 8.280278246555961e-05, 8.27418244913919e-05, 8.273365228144517e-05, 8.229315966672555e-05, 8.262154302742621e-05, 8.234875594397317e-05]\n"
          ]
        }
      ]
    }
  ]
}